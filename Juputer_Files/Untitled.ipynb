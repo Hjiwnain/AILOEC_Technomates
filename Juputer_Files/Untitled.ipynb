{
 "cells": [
  {
   "cell_type": "code",
   "execution_count": 1,
   "id": "bcc9de07",
   "metadata": {},
   "outputs": [],
   "source": [
    "import pandas as pd"
   ]
  },
  {
   "cell_type": "code",
   "execution_count": 24,
   "id": "d678f010",
   "metadata": {},
   "outputs": [],
   "source": [
    "df = pd.read_csv(\"./Track_1.csv\")"
   ]
  },
  {
   "cell_type": "code",
   "execution_count": 25,
   "id": "a7f88de9",
   "metadata": {},
   "outputs": [],
   "source": [
    "df = df.loc[:, ~df.columns.str.contains('^Unnamed')]"
   ]
  },
  {
   "cell_type": "code",
   "execution_count": 26,
   "id": "df5f6804",
   "metadata": {},
   "outputs": [],
   "source": [
    "df = df.drop(['1=defaulted','Other loans plans taken'],axis=1)"
   ]
  },
  {
   "cell_type": "code",
   "execution_count": 27,
   "id": "09f912a9",
   "metadata": {},
   "outputs": [],
   "source": [
    "#Renameing Coloumn Name For Convinence\n",
    "df.rename(columns = {'Number of people who will provide maintenance':'NPPM','Purpose of taking loan': 'Objective',\n",
    "                     'loan amount taken': 'Amount','Guarantor or Debtor': 'Guarantor','Loan History':'LoanStatus',\n",
    "                     'Number of years of employment': 'Experience','Marital Status' : 'M_Status','Number of loans taken from current bank': 'ExistingLoan',\n",
    "                     'Age of the applicant in Number of Years': 'Age','amount in current account': 'CA_Balance',\n",
    "                     'amount in savings account': 'SA_Balance','% of income paid as installment': 'PI_Payment',\n",
    "                     'Working abroad or not': 'WorkAB', 'Is there telephone number available': 'PhN',\n",
    "                     'time duration for loan': 'Tenure', 'Owned property': 'prop', 'Type of job performed': 'JobTyp',\n",
    "                     'Type of Housing':'HouseT','Number of years of stay in current address': 'NOE','Loan Defaulted or not': 'prediction'}, inplace = True)"
   ]
  },
  {
   "cell_type": "code",
   "execution_count": 20,
   "id": "2b667222",
   "metadata": {},
   "outputs": [],
   "source": [
    "df = df.dropna()"
   ]
  },
  {
   "cell_type": "code",
   "execution_count": 40,
   "id": "6cefdf53",
   "metadata": {},
   "outputs": [],
   "source": [
    "df['Experience'] = df['Experience'].fillna('')"
   ]
  },
  {
   "cell_type": "code",
   "execution_count": 41,
   "id": "6c6b3102",
   "metadata": {},
   "outputs": [],
   "source": [
    "df.Objective = df.Objective.replace({\"New Car Purchase\": 0, \"Purchase of radio/television\" : 1,'Purchase of furniture/equipment' : 2,'Old Car Repair': 3,'Education Loan': 4,\n",
    "                                    'Loan for business establishment': 5,'Other repairs': 6,'Purchase of domestic appliances': 7,'Loan for retraining': 8,'': 9})\n",
    "\n",
    "df.Guarantor = df.Guarantor.replace({'none' : 0,'gaurantor' : 1,'co-applicant':  2,'': 3})\n",
    "\n",
    "df.LoanStatus = df.LoanStatus.replace({'critical account/other loans existing (not at this bank)' : 0,'existing loans paid back duly till now' : 1,'all loans at this bank paid back duly':  2,'delay in paying off loans in the past' : 3,\n",
    "                                       'no loans taken/all loans paid back duly': 4,'': 5,})\n",
    "\n",
    "df.Experience = df.Experience.replace({'between 1 and 4 years': 0, 'greater than 4 years': 1,'less than a year': 2,'unemployed': 3,'':4})\n",
    "\n",
    "df.M_Status = df.M_Status.replace({'female and divorced/seperated/married': 0,'male and single': 1,'male and married/widowed': 2,\n",
    "                                  'male and divorced/seperated': 3,'':4})\n",
    "\n",
    "df.CA_Balance = df.CA_Balance.replace({'no current account': 0,'less than 0': 1,'between 0 and 200': 3,'greater than 200': 4,'':5})\n",
    "\n",
    "df.SA_Balance = df.SA_Balance.replace({'less than 100': 0,'no savings account': 1,'between 500 and 1000': 2,\n",
    "                                      'between 100 and 500': 3,'greater than 1000': 4,'':5})\n",
    "\n",
    "df.WorkAB = df.WorkAB.replace({'Yes': 1,'No': 0,'':2})\n",
    "\n",
    "df.PhN = df.PhN.replace({'Yes': 1,'No': 0,'':2})\n",
    "\n",
    "df.prop = df.prop.replace({'Real Estate': 0,'car or other property': 1,'No property': 2,'building society savings agreement/life insurance': 3,'':4})\n",
    "\n",
    "df.JobTyp = df.JobTyp.replace({'skilled employee / official': 0,'unskilled - resident': 1,'unemployed/ unskilled - non-resident': 2,'management/ self-employed/highly qualified employee/ officer': 3,'':4})\n",
    "\n",
    "df.HouseT = df.HouseT.replace({'own': 0,'for free': 1,'rent': 3,'':4})\n",
    "\n",
    "df.prediction = df.prediction.replace({2 : 0})"
   ]
  },
  {
   "cell_type": "code",
   "execution_count": 43,
   "id": "d408cc4c",
   "metadata": {
    "scrolled": true
   },
   "outputs": [
    {
     "data": {
      "text/plain": [
       "NPPM            0\n",
       "LoanStatus      0\n",
       "Objective       9\n",
       "Amount          0\n",
       "Guarantor       0\n",
       "Experience      0\n",
       "M_Status        0\n",
       "ExistingLoan    0\n",
       "Age             0\n",
       "CA_Balance      0\n",
       "SA_Balance      0\n",
       "PI_Payment      0\n",
       "WorkAB          0\n",
       "PhN             0\n",
       "Tenure          0\n",
       "prop            0\n",
       "JobTyp          0\n",
       "HouseT          0\n",
       "NOE             0\n",
       "prediction      0\n",
       "dtype: int64"
      ]
     },
     "execution_count": 43,
     "metadata": {},
     "output_type": "execute_result"
    }
   ],
   "source": [
    "df.isna().sum()"
   ]
  },
  {
   "cell_type": "code",
   "execution_count": 62,
   "id": "5cdce8e4",
   "metadata": {},
   "outputs": [],
   "source": [
    "df = df.dropna()"
   ]
  },
  {
   "cell_type": "code",
   "execution_count": 63,
   "id": "e26ab4ce",
   "metadata": {},
   "outputs": [],
   "source": [
    "from sklearn.linear_model import LogisticRegression\n",
    "from sklearn.model_selection import train_test_split\n",
    "from sklearn.metrics import accuracy_score"
   ]
  },
  {
   "cell_type": "code",
   "execution_count": 64,
   "id": "0b4dcac4",
   "metadata": {},
   "outputs": [],
   "source": [
    "X = df.drop(['prediction'],axis=1)\n",
    "Y = df['prediction']"
   ]
  },
  {
   "cell_type": "code",
   "execution_count": 61,
   "id": "53c2059d",
   "metadata": {},
   "outputs": [
    {
     "name": "stdout",
     "output_type": "stream",
     "text": [
      "(600, 20)\n"
     ]
    },
    {
     "data": {
      "text/plain": [
       "(591, 20)"
      ]
     },
     "execution_count": 61,
     "metadata": {},
     "output_type": "execute_result"
    }
   ],
   "source": []
  },
  {
   "cell_type": "code",
   "execution_count": 65,
   "id": "042a1667",
   "metadata": {},
   "outputs": [],
   "source": [
    "X_train, X_test, y_train, y_test = train_test_split(X, Y, test_size=0.2)"
   ]
  },
  {
   "cell_type": "code",
   "execution_count": 66,
   "id": "cc6e384a",
   "metadata": {},
   "outputs": [
    {
     "name": "stdout",
     "output_type": "stream",
     "text": [
      "Size of X Train:- (472, 19)\n",
      "Size of Y Train:- (472,)\n",
      "Size of X Test:- (119, 19)\n",
      "Size of Y Test:- (119,)\n"
     ]
    }
   ],
   "source": [
    "print(\"Size of X Train:- \" + str(X_train.shape))\n",
    "print(\"Size of Y Train:- \" + str(y_train.shape))\n",
    "print(\"Size of X Test:- \" + str(X_test.shape))\n",
    "print(\"Size of Y Test:- \" + str(y_test.shape))"
   ]
  },
  {
   "cell_type": "code",
   "execution_count": 67,
   "id": "afdeb9a1",
   "metadata": {},
   "outputs": [],
   "source": [
    "from sklearn.ensemble import RandomForestClassifier\n",
    "from sklearn import metrics"
   ]
  },
  {
   "cell_type": "code",
   "execution_count": 96,
   "id": "799cb7f3",
   "metadata": {},
   "outputs": [
    {
     "data": {
      "text/html": [
       "<style>#sk-container-id-11 {color: black;background-color: white;}#sk-container-id-11 pre{padding: 0;}#sk-container-id-11 div.sk-toggleable {background-color: white;}#sk-container-id-11 label.sk-toggleable__label {cursor: pointer;display: block;width: 100%;margin-bottom: 0;padding: 0.3em;box-sizing: border-box;text-align: center;}#sk-container-id-11 label.sk-toggleable__label-arrow:before {content: \"▸\";float: left;margin-right: 0.25em;color: #696969;}#sk-container-id-11 label.sk-toggleable__label-arrow:hover:before {color: black;}#sk-container-id-11 div.sk-estimator:hover label.sk-toggleable__label-arrow:before {color: black;}#sk-container-id-11 div.sk-toggleable__content {max-height: 0;max-width: 0;overflow: hidden;text-align: left;background-color: #f0f8ff;}#sk-container-id-11 div.sk-toggleable__content pre {margin: 0.2em;color: black;border-radius: 0.25em;background-color: #f0f8ff;}#sk-container-id-11 input.sk-toggleable__control:checked~div.sk-toggleable__content {max-height: 200px;max-width: 100%;overflow: auto;}#sk-container-id-11 input.sk-toggleable__control:checked~label.sk-toggleable__label-arrow:before {content: \"▾\";}#sk-container-id-11 div.sk-estimator input.sk-toggleable__control:checked~label.sk-toggleable__label {background-color: #d4ebff;}#sk-container-id-11 div.sk-label input.sk-toggleable__control:checked~label.sk-toggleable__label {background-color: #d4ebff;}#sk-container-id-11 input.sk-hidden--visually {border: 0;clip: rect(1px 1px 1px 1px);clip: rect(1px, 1px, 1px, 1px);height: 1px;margin: -1px;overflow: hidden;padding: 0;position: absolute;width: 1px;}#sk-container-id-11 div.sk-estimator {font-family: monospace;background-color: #f0f8ff;border: 1px dotted black;border-radius: 0.25em;box-sizing: border-box;margin-bottom: 0.5em;}#sk-container-id-11 div.sk-estimator:hover {background-color: #d4ebff;}#sk-container-id-11 div.sk-parallel-item::after {content: \"\";width: 100%;border-bottom: 1px solid gray;flex-grow: 1;}#sk-container-id-11 div.sk-label:hover label.sk-toggleable__label {background-color: #d4ebff;}#sk-container-id-11 div.sk-serial::before {content: \"\";position: absolute;border-left: 1px solid gray;box-sizing: border-box;top: 0;bottom: 0;left: 50%;z-index: 0;}#sk-container-id-11 div.sk-serial {display: flex;flex-direction: column;align-items: center;background-color: white;padding-right: 0.2em;padding-left: 0.2em;position: relative;}#sk-container-id-11 div.sk-item {position: relative;z-index: 1;}#sk-container-id-11 div.sk-parallel {display: flex;align-items: stretch;justify-content: center;background-color: white;position: relative;}#sk-container-id-11 div.sk-item::before, #sk-container-id-11 div.sk-parallel-item::before {content: \"\";position: absolute;border-left: 1px solid gray;box-sizing: border-box;top: 0;bottom: 0;left: 50%;z-index: -1;}#sk-container-id-11 div.sk-parallel-item {display: flex;flex-direction: column;z-index: 1;position: relative;background-color: white;}#sk-container-id-11 div.sk-parallel-item:first-child::after {align-self: flex-end;width: 50%;}#sk-container-id-11 div.sk-parallel-item:last-child::after {align-self: flex-start;width: 50%;}#sk-container-id-11 div.sk-parallel-item:only-child::after {width: 0;}#sk-container-id-11 div.sk-dashed-wrapped {border: 1px dashed gray;margin: 0 0.4em 0.5em 0.4em;box-sizing: border-box;padding-bottom: 0.4em;background-color: white;}#sk-container-id-11 div.sk-label label {font-family: monospace;font-weight: bold;display: inline-block;line-height: 1.2em;}#sk-container-id-11 div.sk-label-container {text-align: center;}#sk-container-id-11 div.sk-container {/* jupyter's `normalize.less` sets `[hidden] { display: none; }` but bootstrap.min.css set `[hidden] { display: none !important; }` so we also need the `!important` here to be able to override the default hidden behavior on the sphinx rendered scikit-learn.org. See: https://github.com/scikit-learn/scikit-learn/issues/21755 */display: inline-block !important;position: relative;}#sk-container-id-11 div.sk-text-repr-fallback {display: none;}</style><div id=\"sk-container-id-11\" class=\"sk-top-container\"><div class=\"sk-text-repr-fallback\"><pre>RandomForestClassifier(max_depth=180, min_samples_split=5, n_estimators=152)</pre><b>In a Jupyter environment, please rerun this cell to show the HTML representation or trust the notebook. <br />On GitHub, the HTML representation is unable to render, please try loading this page with nbviewer.org.</b></div><div class=\"sk-container\" hidden><div class=\"sk-item\"><div class=\"sk-estimator sk-toggleable\"><input class=\"sk-toggleable__control sk-hidden--visually\" id=\"sk-estimator-id-11\" type=\"checkbox\" checked><label for=\"sk-estimator-id-11\" class=\"sk-toggleable__label sk-toggleable__label-arrow\">RandomForestClassifier</label><div class=\"sk-toggleable__content\"><pre>RandomForestClassifier(max_depth=180, min_samples_split=5, n_estimators=152)</pre></div></div></div></div></div>"
      ],
      "text/plain": [
       "RandomForestClassifier(max_depth=180, min_samples_split=5, n_estimators=152)"
      ]
     },
     "execution_count": 96,
     "metadata": {},
     "output_type": "execute_result"
    }
   ],
   "source": [
    "reg_rf = RandomForestClassifier(max_depth=180,min_samples_split= 5,n_estimators= 152)\n",
    "\n",
    "reg_rf.fit(X_train, y_train)"
   ]
  },
  {
   "cell_type": "code",
   "execution_count": 97,
   "id": "23f7656c",
   "metadata": {},
   "outputs": [
    {
     "name": "stdout",
     "output_type": "stream",
     "text": [
      "              precision    recall  f1-score   support\n",
      "\n",
      "           0       0.71      0.38      0.49        32\n",
      "           1       0.80      0.94      0.87        87\n",
      "\n",
      "    accuracy                           0.79       119\n",
      "   macro avg       0.75      0.66      0.68       119\n",
      "weighted avg       0.78      0.79      0.77       119\n",
      "\n"
     ]
    }
   ],
   "source": [
    "y_pred = reg_rf.predict(X_test)\n",
    "print(metrics.classification_report(y_test, y_pred))"
   ]
  },
  {
   "cell_type": "code",
   "execution_count": 130,
   "id": "d60a5c98",
   "metadata": {},
   "outputs": [],
   "source": [
    "df1 = pd.read_csv(\"./testing_data.csv\")"
   ]
  },
  {
   "cell_type": "code",
   "execution_count": 126,
   "id": "6ea4ced0",
   "metadata": {},
   "outputs": [],
   "source": [
    "#Renameing Coloumn Name For Convinence\n",
    "df1.rename(columns = {'Number of people who will provide maintenance':'NPPM','Purpose of taking loan': 'Objective',\n",
    "                     'loan amount taken': 'Amount','Guarantor or Debtor': 'Guarantee','Loan History':'LoanStatus',\n",
    "                     'Number of years of employment': 'Experience','Marital Status' : 'M_Status','Number of loans taken from current bank': 'ExistingLoan',\n",
    "                     'Age of the applicant in Number of Years': 'Age','amount in current account': 'CA_Balance',\n",
    "                     'amount in savings account': 'SA_Balance','% of income paid as installment': 'PI_Payment',\n",
    "                     'Working abroad or not': 'WorkAB', 'Is there telephone number available': 'PhNum',\n",
    "                     'time duration for loan': 'Tenure', 'Owned property': 'prop', 'Type of job performed': 'JobTyp',\n",
    "                     'Type of Housing':'HouseT','Number of years of stay in current address': 'NOE','Loan Defaulted or not': 'prediction'}, inplace = True)"
   ]
  },
  {
   "cell_type": "code",
   "execution_count": 127,
   "id": "55425d0c",
   "metadata": {},
   "outputs": [],
   "source": [
    "df1 = Preprocessing(df1)"
   ]
  },
  {
   "cell_type": "code",
   "execution_count": 128,
   "id": "90482904",
   "metadata": {},
   "outputs": [],
   "source": [
    "def Preprocessing(df2):\n",
    "    df2.Objective = df2.Objective.replace({\"New Car Purchase\": 0, \"Purchase of radio/television\" : 1,'Purchase of furniture/equipment' : 2,'Old Car Repair': 3,'Education Loan': 4,\n",
    "                                    'Loan for business establishment': 5,'Other repairs': 6,'Purchase of domestic appliances': 7,'Loan for retraining': 8})\n",
    "    df2.Guarantee = df2.Guarantee.replace({'none' : 0,'gaurantor' : 1,'co-applicant':  2})\n",
    "    df2.LoanStatus = df2.LoanStatus.replace({'critical account/other loans existing (not at this bank)' : 0,'existing loans paid back duly till now' : 1,'all loans at this bank paid back duly':  2,'delay in paying off loans in the past' : 3,\n",
    "                                        'no loans taken/all loans paid back duly': 4})\n",
    "    df2.Experience = df2.Experience.replace({'between 1 and 4 years': 0, 'greater than 4 years': 1,'less than a year': 2,'unemployed': 3,\"\": 4})\n",
    "    df2.M_Status = df2.M_Status.replace({'female and divorced/seperated/married': 0,'male and single': 1,'male and married/widowed': 2,\n",
    "                                    'male and divorced/seperated': 3})\n",
    "    df2.CA_Balance = df2.CA_Balance.replace({'no current account': 0,'less than 0': 1,'between 0 and 200': 3,'greater than 200': 4})\n",
    "    df2.SA_Balance = df2.SA_Balance.replace({'less than 100': 0,'no savings account': 1,'between 500 and 1000': 2,\n",
    "                                        'between 100 and 500': 3,'greater than 1000': 4})\n",
    "    df2.WorkAB = df2.WorkAB.replace({'Yes': 1,'No': 0})\n",
    "    df2.PhNum = df2.PhNum.replace({'Yes': 1,'No': 0})\n",
    "    df2.prop = df2.prop.replace({'Real Estate': 0,'car or other property': 1,'No property': 2,'building society savings agreement/life insurance': 3})\n",
    "    df2.JobTyp = df2.JobTyp.replace({'skilled employee / official': 0,'unskilled - resident': 1,'unemployed/ unskilled - non-resident': 2,'management/ self-employed/highly qualified employee/ officer': 3})\n",
    "    df2.HouseT = df2.HouseT.replace({'own': 0,'for free': 1,'rent': 3})\n",
    "    return df2"
   ]
  },
  {
   "cell_type": "code",
   "execution_count": 132,
   "id": "e8612543",
   "metadata": {},
   "outputs": [
    {
     "data": {
      "text/html": [
       "<div>\n",
       "<style scoped>\n",
       "    .dataframe tbody tr th:only-of-type {\n",
       "        vertical-align: middle;\n",
       "    }\n",
       "\n",
       "    .dataframe tbody tr th {\n",
       "        vertical-align: top;\n",
       "    }\n",
       "\n",
       "    .dataframe thead th {\n",
       "        text-align: right;\n",
       "    }\n",
       "</style>\n",
       "<table border=\"1\" class=\"dataframe\">\n",
       "  <thead>\n",
       "    <tr style=\"text-align: right;\">\n",
       "      <th></th>\n",
       "      <th>Unnamed: 0</th>\n",
       "      <th>Number of people who will provide maintenance</th>\n",
       "      <th>Loan History</th>\n",
       "      <th>Purpose of taking loan</th>\n",
       "      <th>loan amount taken</th>\n",
       "      <th>Guarantor or Debtor</th>\n",
       "      <th>Number of years of employment</th>\n",
       "      <th>Marital Status</th>\n",
       "      <th>Number of loans taken from current bank</th>\n",
       "      <th>Age of the applicant in Number of Years</th>\n",
       "      <th>...</th>\n",
       "      <th>% of income paid as installment</th>\n",
       "      <th>Other loans plans taken</th>\n",
       "      <th>Working abroad or not</th>\n",
       "      <th>Is there telephone number available</th>\n",
       "      <th>time duration for loan</th>\n",
       "      <th>Owned property</th>\n",
       "      <th>Type of job performed</th>\n",
       "      <th>Type of Housing</th>\n",
       "      <th>Number of years of stay in current address</th>\n",
       "      <th>Loan Defaulted or not</th>\n",
       "    </tr>\n",
       "  </thead>\n",
       "  <tbody>\n",
       "    <tr>\n",
       "      <th>0</th>\n",
       "      <td>600</td>\n",
       "      <td>1</td>\n",
       "      <td>existing loans paid back duly till now</td>\n",
       "      <td>Purchase of radio/television</td>\n",
       "      <td>1278</td>\n",
       "      <td>none</td>\n",
       "      <td>NaN</td>\n",
       "      <td>male and single</td>\n",
       "      <td>1</td>\n",
       "      <td>36</td>\n",
       "      <td>...</td>\n",
       "      <td>4</td>\n",
       "      <td>none</td>\n",
       "      <td>Yes</td>\n",
       "      <td>Yes</td>\n",
       "      <td>24</td>\n",
       "      <td>Real Estate</td>\n",
       "      <td>management/ self-employed/highly qualified emp...</td>\n",
       "      <td>own</td>\n",
       "      <td>1</td>\n",
       "      <td>NaN</td>\n",
       "    </tr>\n",
       "    <tr>\n",
       "      <th>1</th>\n",
       "      <td>601</td>\n",
       "      <td>1</td>\n",
       "      <td>critical account/other loans existing (not at ...</td>\n",
       "      <td>Old Car Repair</td>\n",
       "      <td>11590</td>\n",
       "      <td>none</td>\n",
       "      <td>between 1 and 4 years</td>\n",
       "      <td>female and divorced/seperated/married</td>\n",
       "      <td>2</td>\n",
       "      <td>24</td>\n",
       "      <td>...</td>\n",
       "      <td>2</td>\n",
       "      <td>bank</td>\n",
       "      <td>Yes</td>\n",
       "      <td>No</td>\n",
       "      <td>48</td>\n",
       "      <td>car or other property</td>\n",
       "      <td>unskilled - resident</td>\n",
       "      <td>rent</td>\n",
       "      <td>4</td>\n",
       "      <td>NaN</td>\n",
       "    </tr>\n",
       "    <tr>\n",
       "      <th>2</th>\n",
       "      <td>602</td>\n",
       "      <td>1</td>\n",
       "      <td>existing loans paid back duly till now</td>\n",
       "      <td>Purchase of radio/television</td>\n",
       "      <td>1366</td>\n",
       "      <td>none</td>\n",
       "      <td>less than a year</td>\n",
       "      <td>female and divorced/seperated/married</td>\n",
       "      <td>1</td>\n",
       "      <td>22</td>\n",
       "      <td>...</td>\n",
       "      <td>3</td>\n",
       "      <td>none</td>\n",
       "      <td>Yes</td>\n",
       "      <td>No</td>\n",
       "      <td>9</td>\n",
       "      <td>building society savings agreement/life insurance</td>\n",
       "      <td>skilled employee / official</td>\n",
       "      <td>rent</td>\n",
       "      <td>4</td>\n",
       "      <td>NaN</td>\n",
       "    </tr>\n",
       "    <tr>\n",
       "      <th>3</th>\n",
       "      <td>603</td>\n",
       "      <td>1</td>\n",
       "      <td>critical account/other loans existing (not at ...</td>\n",
       "      <td>Purchase of furniture/equipment</td>\n",
       "      <td>14179</td>\n",
       "      <td>none</td>\n",
       "      <td>greater than 4 years</td>\n",
       "      <td>male and single</td>\n",
       "      <td>2</td>\n",
       "      <td>30</td>\n",
       "      <td>...</td>\n",
       "      <td>4</td>\n",
       "      <td>none</td>\n",
       "      <td>Yes</td>\n",
       "      <td>Yes</td>\n",
       "      <td>39</td>\n",
       "      <td>building society savings agreement/life insurance</td>\n",
       "      <td>management/ self-employed/highly qualified emp...</td>\n",
       "      <td>own</td>\n",
       "      <td>4</td>\n",
       "      <td>NaN</td>\n",
       "    </tr>\n",
       "    <tr>\n",
       "      <th>4</th>\n",
       "      <td>604</td>\n",
       "      <td>1</td>\n",
       "      <td>existing loans paid back duly till now</td>\n",
       "      <td>Old Car Repair</td>\n",
       "      <td>1236</td>\n",
       "      <td>none</td>\n",
       "      <td>between 1 and 4 years</td>\n",
       "      <td>male and single</td>\n",
       "      <td>1</td>\n",
       "      <td>50</td>\n",
       "      <td>...</td>\n",
       "      <td>2</td>\n",
       "      <td>none</td>\n",
       "      <td>Yes</td>\n",
       "      <td>No</td>\n",
       "      <td>6</td>\n",
       "      <td>building society savings agreement/life insurance</td>\n",
       "      <td>skilled employee / official</td>\n",
       "      <td>rent</td>\n",
       "      <td>4</td>\n",
       "      <td>NaN</td>\n",
       "    </tr>\n",
       "  </tbody>\n",
       "</table>\n",
       "<p>5 rows × 22 columns</p>\n",
       "</div>"
      ],
      "text/plain": [
       "   Unnamed: 0  Number of people who will provide maintenance  \\\n",
       "0         600                                              1   \n",
       "1         601                                              1   \n",
       "2         602                                              1   \n",
       "3         603                                              1   \n",
       "4         604                                              1   \n",
       "\n",
       "                                        Loan History  \\\n",
       "0             existing loans paid back duly till now   \n",
       "1  critical account/other loans existing (not at ...   \n",
       "2             existing loans paid back duly till now   \n",
       "3  critical account/other loans existing (not at ...   \n",
       "4             existing loans paid back duly till now   \n",
       "\n",
       "            Purpose of taking loan  loan amount taken Guarantor or Debtor  \\\n",
       "0     Purchase of radio/television               1278                none   \n",
       "1                   Old Car Repair              11590                none   \n",
       "2     Purchase of radio/television               1366                none   \n",
       "3  Purchase of furniture/equipment              14179                none   \n",
       "4                   Old Car Repair               1236                none   \n",
       "\n",
       "  Number of years of employment                         Marital Status  \\\n",
       "0                           NaN                        male and single   \n",
       "1         between 1 and 4 years  female and divorced/seperated/married   \n",
       "2              less than a year  female and divorced/seperated/married   \n",
       "3          greater than 4 years                        male and single   \n",
       "4         between 1 and 4 years                        male and single   \n",
       "\n",
       "   Number of loans taken from current bank  \\\n",
       "0                                        1   \n",
       "1                                        2   \n",
       "2                                        1   \n",
       "3                                        2   \n",
       "4                                        1   \n",
       "\n",
       "   Age of the applicant in Number of Years  ...  \\\n",
       "0                                       36  ...   \n",
       "1                                       24  ...   \n",
       "2                                       22  ...   \n",
       "3                                       30  ...   \n",
       "4                                       50  ...   \n",
       "\n",
       "  % of income paid as installment Other loans plans taken  \\\n",
       "0                               4                    none   \n",
       "1                               2                    bank   \n",
       "2                               3                    none   \n",
       "3                               4                    none   \n",
       "4                               2                    none   \n",
       "\n",
       "   Working abroad or not Is there telephone number available  \\\n",
       "0                    Yes                                 Yes   \n",
       "1                    Yes                                  No   \n",
       "2                    Yes                                  No   \n",
       "3                    Yes                                 Yes   \n",
       "4                    Yes                                  No   \n",
       "\n",
       "  time duration for loan                                     Owned property  \\\n",
       "0                     24                                        Real Estate   \n",
       "1                     48                              car or other property   \n",
       "2                      9  building society savings agreement/life insurance   \n",
       "3                     39  building society savings agreement/life insurance   \n",
       "4                      6  building society savings agreement/life insurance   \n",
       "\n",
       "                               Type of job performed Type of Housing  \\\n",
       "0  management/ self-employed/highly qualified emp...             own   \n",
       "1                               unskilled - resident            rent   \n",
       "2                        skilled employee / official            rent   \n",
       "3  management/ self-employed/highly qualified emp...             own   \n",
       "4                        skilled employee / official            rent   \n",
       "\n",
       "  Number of years of stay in current address Loan Defaulted or not  \n",
       "0                                          1                   NaN  \n",
       "1                                          4                   NaN  \n",
       "2                                          4                   NaN  \n",
       "3                                          4                   NaN  \n",
       "4                                          4                   NaN  \n",
       "\n",
       "[5 rows x 22 columns]"
      ]
     },
     "execution_count": 132,
     "metadata": {},
     "output_type": "execute_result"
    }
   ],
   "source": [
    "df1.drpo"
   ]
  },
  {
   "cell_type": "code",
   "execution_count": null,
   "id": "1619c315",
   "metadata": {},
   "outputs": [],
   "source": []
  }
 ],
 "metadata": {
  "kernelspec": {
   "display_name": "Python 3 (ipykernel)",
   "language": "python",
   "name": "python3"
  },
  "language_info": {
   "codemirror_mode": {
    "name": "ipython",
    "version": 3
   },
   "file_extension": ".py",
   "mimetype": "text/x-python",
   "name": "python",
   "nbconvert_exporter": "python",
   "pygments_lexer": "ipython3",
   "version": "3.9.7"
  }
 },
 "nbformat": 4,
 "nbformat_minor": 5
}
