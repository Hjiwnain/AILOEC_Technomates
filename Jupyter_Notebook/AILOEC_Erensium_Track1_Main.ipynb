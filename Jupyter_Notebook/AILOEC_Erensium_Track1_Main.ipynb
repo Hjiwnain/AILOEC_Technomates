{
  "cells": [
    {
      "cell_type": "markdown",
      "metadata": {
        "id": "Z2DPowlNa45R"
      },
      "source": [
        "# Loan Eligiblity Prediction 🤝📜📃⚖️💵"
      ]
    },
    {
      "cell_type": "markdown",
      "metadata": {
        "id": "M1itNX12bB8N"
      },
      "source": [
        "### **Motive** :- \n",
        "\n",
        "---\n",
        "\n",
        "\n",
        "\n",
        "\n",
        "> In today’s world of recession and uncertain\n",
        "economy following the pandemic, it is vital to have\n",
        "healthy and sustainable financing no matter who\n",
        "you are. A big part in ensuring this is to stay clear of\n",
        "risky loan traps and prevent taking on\n",
        "unsustainable debts.\n",
        "A smart individual would diligently measure the\n",
        "amount and purpose of each loan against their own\n",
        "specific information to determine their *ability* to\n",
        "pay the loan back. There is certainly a large scope\n",
        "for programs and algorithms that can help in\n",
        "making this decision with high accuracy.\n",
        "\n",
        "\n",
        "\n",
        "---\n",
        "\n",
        "\n",
        "\n"
      ]
    },
    {
      "cell_type": "markdown",
      "metadata": {
        "id": "P0WIrYG3beu7"
      },
      "source": [
        "#### Explanation Manual :- \n",
        "The code imports several libraries that are commonly used for machine learning tasks, such as:\n",
        "\n",
        "\n",
        "\n",
        "\n",
        "\n",
        "*   pickle for saving model\n",
        "*   numpy for numerical computations\n",
        "*   pandas for data manipulation and analysis\n",
        "*   RandomForestClassifier from sklearn.ensemble for building Random Forest classification models\n",
        "*   classification_report from sklearn.metrics for evaluating the performance of the model by computing the accuracy score.\n",
        "*   train_test_split from sklearn.model_selection for splitting the data into training and testing sets."
      ]
    },
    {
      "cell_type": "code",
      "execution_count": 2,
      "metadata": {
        "id": "LrAeumUTyvnR"
      },
      "outputs": [],
      "source": [
        "#Importing important Library's\n",
        "\n",
        "import pickle\n",
        "import numpy as np\n",
        "import pandas as pd\n",
        "from sklearn import metrics\n",
        "from sklearn.metrics import accuracy_score\n",
        "from sklearn.ensemble import RandomForestClassifier\n",
        "from sklearn.model_selection import train_test_split"
      ]
    },
    {
      "cell_type": "code",
      "execution_count": 166,
      "metadata": {
        "id": "MR4_ywQCy2by"
      },
      "outputs": [],
      "source": [
        "# Reading DataSet and converting it to dataframe using pandas\n",
        "df = pd.read_csv(\"/content/drive/MyDrive/Hackathon_IITII/Juputer_Files/Track_1.csv\")"
      ]
    },
    {
      "cell_type": "code",
      "execution_count": 167,
      "metadata": {
        "colab": {
          "base_uri": "https://localhost:8080/"
        },
        "id": "F5eBVICfMFlF",
        "outputId": "2783d405-6b52-433e-f57d-76656e7a57a7"
      },
      "outputs": [
        {
          "name": "stdout",
          "output_type": "stream",
          "text": [
            "<class 'pandas.core.frame.DataFrame'>\n",
            "RangeIndex: 600 entries, 0 to 599\n",
            "Data columns (total 23 columns):\n",
            " #   Column                                         Non-Null Count  Dtype \n",
            "---  ------                                         --------------  ----- \n",
            " 0   Unnamed: 0                                     600 non-null    int64 \n",
            " 1   Number of people who will provide maintenance  600 non-null    int64 \n",
            " 2   Loan History                                   600 non-null    object\n",
            " 3   Purpose of taking loan                         591 non-null    object\n",
            " 4   loan amount taken                              600 non-null    int64 \n",
            " 5   Guarantor or Debtor                            600 non-null    object\n",
            " 6   Number of years of employment                  447 non-null    object\n",
            " 7   Marital Status                                 600 non-null    object\n",
            " 8   Number of loans taken from current bank        600 non-null    int64 \n",
            " 9   Age of the applicant in Number of Years        600 non-null    int64 \n",
            " 10  amount in current account                      600 non-null    object\n",
            " 11  amount in savings account                      600 non-null    object\n",
            " 12  % of income paid as installment                600 non-null    int64 \n",
            " 13  Other loans plans taken                        600 non-null    object\n",
            " 14  Working abroad or not                          600 non-null    object\n",
            " 15  Is there telephone number available            600 non-null    object\n",
            " 16  time duration for loan                         600 non-null    int64 \n",
            " 17  Owned property                                 600 non-null    object\n",
            " 18  Type of job performed                          600 non-null    object\n",
            " 19  Type of Housing                                600 non-null    object\n",
            " 20  Number of years of stay in current address     600 non-null    int64 \n",
            " 21  Loan Defaulted or not                          600 non-null    int64 \n",
            " 22  1=defaulted                                    1 non-null      object\n",
            "dtypes: int64(9), object(14)\n",
            "memory usage: 107.9+ KB\n"
          ]
        }
      ],
      "source": [
        "df.info()"
      ]
    },
    {
      "cell_type": "markdown",
      "metadata": {
        "id": "T_HdWY5ScZZq"
      },
      "source": [
        "## **Preprocessing Data**\n",
        "\n",
        "\n",
        "\n",
        "> Data preprocessing, a component of data preparation, describes any type of processing performed on raw data to prepare it for another data processing procedure.\n",
        "\n",
        "In our case we will be dropping, Renaiming few coloumns the conculsion were made on the basis of EDA Notebook Check it out for reference :- [EDA_OF_DATA](https://colab.research.google.com/drive/1IxWLBCwm9BM5IPqQAxSoVxbm7OmoKqYk?usp=sharing)\n",
        "\n",
        "\n",
        "\n",
        "\n",
        "\n"
      ]
    },
    {
      "cell_type": "code",
      "execution_count": 168,
      "metadata": {
        "id": "aTbfELBRMHRF"
      },
      "outputs": [],
      "source": [
        "# Droping the Column which are not useful\n",
        "\n",
        "df = df.loc[:, ~df.columns.str.contains('^Unnamed')]\n",
        "df = df.drop(['1=defaulted','Other loans plans taken'],axis=1)"
      ]
    },
    {
      "cell_type": "markdown",
      "metadata": {
        "id": "L0vrQ47yeJWL"
      },
      "source": []
    },
    {
      "cell_type": "code",
      "execution_count": 169,
      "metadata": {
        "id": "-GCrDoGmMJfL"
      },
      "outputs": [],
      "source": [
        "#Renameing Coloumn Name For Convinence\n",
        "\n",
        "df.rename(columns = {'Number of people who will provide maintenance':'NPPM','Purpose of taking loan': 'Objective',\n",
        "                     'loan amount taken': 'Amount','Guarantor or Debtor': 'Guarantor','Loan History':'LoanStatus',\n",
        "                     'Number of years of employment': 'Experience','Marital Status' : 'M_Status','Number of loans taken from current bank': 'ExistingLoan',\n",
        "                     'Age of the applicant in Number of Years': 'Age','amount in current account': 'CA_Balance',\n",
        "                     'amount in savings account': 'SA_Balance','% of income paid as installment': 'PI_Payment',\n",
        "                     'Working abroad or not': 'WorkAB', 'Is there telephone number available': 'PhN',\n",
        "                     'time duration for loan': 'Tenure', 'Owned property': 'prop', 'Type of job performed': 'JobTyp',\n",
        "                     'Type of Housing':'HouseT','Number of years of stay in current address': 'NOE','Loan Defaulted or not': 'prediction','Other loans plans taken' : 'olpt'}, inplace = True)"
      ]
    },
    {
      "cell_type": "code",
      "execution_count": 170,
      "metadata": {
        "id": "ld4ge2NYMvHu"
      },
      "outputs": [],
      "source": [
        "#Replacing nan values with single space so they can be treated as entity\n",
        "\n",
        "df['Objective'] = df['Objective'].replace(np.nan, '', regex=True)\n",
        "df['Experience'] = df['Experience'].replace(np.nan, '', regex=True)"
      ]
    },
    {
      "cell_type": "code",
      "execution_count": 171,
      "metadata": {
        "colab": {
          "base_uri": "https://localhost:8080/"
        },
        "id": "QQJE7-ePMUii",
        "outputId": "4eac958a-0f28-4d83-f556-3fd6abab8a05"
      },
      "outputs": [
        {
          "data": {
            "text/plain": [
              "NPPM            0\n",
              "LoanStatus      0\n",
              "Objective       0\n",
              "Amount          0\n",
              "Guarantor       0\n",
              "Experience      0\n",
              "M_Status        0\n",
              "ExistingLoan    0\n",
              "Age             0\n",
              "CA_Balance      0\n",
              "SA_Balance      0\n",
              "PI_Payment      0\n",
              "WorkAB          0\n",
              "PhN             0\n",
              "Tenure          0\n",
              "prop            0\n",
              "JobTyp          0\n",
              "HouseT          0\n",
              "NOE             0\n",
              "prediction      0\n",
              "dtype: int64"
            ]
          },
          "execution_count": 171,
          "metadata": {},
          "output_type": "execute_result"
        }
      ],
      "source": [
        "## Let's Check Out For Null Values In Data Frame\n",
        "\n",
        "df.isna().sum()"
      ]
    },
    {
      "cell_type": "code",
      "execution_count": 172,
      "metadata": {
        "colab": {
          "base_uri": "https://localhost:8080/",
          "height": 565
        },
        "id": "AX3DrUnBMXWn",
        "outputId": "76c43a47-aa91-4585-fe68-2bc39abee9bb"
      },
      "outputs": [
        {
          "data": {
            "text/html": [
              "\n",
              "  <div id=\"df-8fc87d24-4b65-4214-bfdd-c85546c475dc\">\n",
              "    <div class=\"colab-df-container\">\n",
              "      <div>\n",
              "<style scoped>\n",
              "    .dataframe tbody tr th:only-of-type {\n",
              "        vertical-align: middle;\n",
              "    }\n",
              "\n",
              "    .dataframe tbody tr th {\n",
              "        vertical-align: top;\n",
              "    }\n",
              "\n",
              "    .dataframe thead th {\n",
              "        text-align: right;\n",
              "    }\n",
              "</style>\n",
              "<table border=\"1\" class=\"dataframe\">\n",
              "  <thead>\n",
              "    <tr style=\"text-align: right;\">\n",
              "      <th></th>\n",
              "      <th>NPPM</th>\n",
              "      <th>LoanStatus</th>\n",
              "      <th>Objective</th>\n",
              "      <th>Amount</th>\n",
              "      <th>Guarantor</th>\n",
              "      <th>Experience</th>\n",
              "      <th>M_Status</th>\n",
              "      <th>ExistingLoan</th>\n",
              "      <th>Age</th>\n",
              "      <th>CA_Balance</th>\n",
              "      <th>SA_Balance</th>\n",
              "      <th>PI_Payment</th>\n",
              "      <th>WorkAB</th>\n",
              "      <th>PhN</th>\n",
              "      <th>Tenure</th>\n",
              "      <th>prop</th>\n",
              "      <th>JobTyp</th>\n",
              "      <th>HouseT</th>\n",
              "      <th>NOE</th>\n",
              "      <th>prediction</th>\n",
              "    </tr>\n",
              "  </thead>\n",
              "  <tbody>\n",
              "    <tr>\n",
              "      <th>0</th>\n",
              "      <td>1</td>\n",
              "      <td>critical account/other loans existing (not at ...</td>\n",
              "      <td>New Car Purchase</td>\n",
              "      <td>1028</td>\n",
              "      <td>none</td>\n",
              "      <td>between 1 and 4 years</td>\n",
              "      <td>female and divorced/seperated/married</td>\n",
              "      <td>2</td>\n",
              "      <td>36</td>\n",
              "      <td>no current account</td>\n",
              "      <td>less than 100</td>\n",
              "      <td>4</td>\n",
              "      <td>Yes</td>\n",
              "      <td>No</td>\n",
              "      <td>18</td>\n",
              "      <td>Real Estate</td>\n",
              "      <td>skilled employee / official</td>\n",
              "      <td>own</td>\n",
              "      <td>3</td>\n",
              "      <td>1</td>\n",
              "    </tr>\n",
              "    <tr>\n",
              "      <th>1</th>\n",
              "      <td>1</td>\n",
              "      <td>existing loans paid back duly till now</td>\n",
              "      <td>Purchase of radio/television</td>\n",
              "      <td>10222</td>\n",
              "      <td>none</td>\n",
              "      <td>greater than 4 years</td>\n",
              "      <td>male and single</td>\n",
              "      <td>1</td>\n",
              "      <td>37</td>\n",
              "      <td>no current account</td>\n",
              "      <td>no savings account</td>\n",
              "      <td>4</td>\n",
              "      <td>Yes</td>\n",
              "      <td>Yes</td>\n",
              "      <td>48</td>\n",
              "      <td>car or other property</td>\n",
              "      <td>skilled employee / official</td>\n",
              "      <td>own</td>\n",
              "      <td>3</td>\n",
              "      <td>1</td>\n",
              "    </tr>\n",
              "    <tr>\n",
              "      <th>2</th>\n",
              "      <td>1</td>\n",
              "      <td>existing loans paid back duly till now</td>\n",
              "      <td>Purchase of radio/television</td>\n",
              "      <td>701</td>\n",
              "      <td>none</td>\n",
              "      <td>between 1 and 4 years</td>\n",
              "      <td>male and married/widowed</td>\n",
              "      <td>1</td>\n",
              "      <td>40</td>\n",
              "      <td>less than 0</td>\n",
              "      <td>less than 100</td>\n",
              "      <td>4</td>\n",
              "      <td>Yes</td>\n",
              "      <td>No</td>\n",
              "      <td>12</td>\n",
              "      <td>Real Estate</td>\n",
              "      <td>unskilled - resident</td>\n",
              "      <td>own</td>\n",
              "      <td>2</td>\n",
              "      <td>1</td>\n",
              "    </tr>\n",
              "    <tr>\n",
              "      <th>3</th>\n",
              "      <td>1</td>\n",
              "      <td>existing loans paid back duly till now</td>\n",
              "      <td>Purchase of radio/television</td>\n",
              "      <td>1670</td>\n",
              "      <td>none</td>\n",
              "      <td>less than a year</td>\n",
              "      <td>female and divorced/seperated/married</td>\n",
              "      <td>1</td>\n",
              "      <td>22</td>\n",
              "      <td>between 0 and 200</td>\n",
              "      <td>less than 100</td>\n",
              "      <td>4</td>\n",
              "      <td>Yes</td>\n",
              "      <td>Yes</td>\n",
              "      <td>9</td>\n",
              "      <td>car or other property</td>\n",
              "      <td>skilled employee / official</td>\n",
              "      <td>own</td>\n",
              "      <td>2</td>\n",
              "      <td>2</td>\n",
              "    </tr>\n",
              "    <tr>\n",
              "      <th>4</th>\n",
              "      <td>1</td>\n",
              "      <td>critical account/other loans existing (not at ...</td>\n",
              "      <td>New Car Purchase</td>\n",
              "      <td>1163</td>\n",
              "      <td>none</td>\n",
              "      <td>between 1 and 4 years</td>\n",
              "      <td>male and single</td>\n",
              "      <td>1</td>\n",
              "      <td>44</td>\n",
              "      <td>no current account</td>\n",
              "      <td>between 500 and 1000</td>\n",
              "      <td>4</td>\n",
              "      <td>Yes</td>\n",
              "      <td>Yes</td>\n",
              "      <td>12</td>\n",
              "      <td>Real Estate</td>\n",
              "      <td>skilled employee / official</td>\n",
              "      <td>own</td>\n",
              "      <td>4</td>\n",
              "      <td>1</td>\n",
              "    </tr>\n",
              "  </tbody>\n",
              "</table>\n",
              "</div>\n",
              "      <button class=\"colab-df-convert\" onclick=\"convertToInteractive('df-8fc87d24-4b65-4214-bfdd-c85546c475dc')\"\n",
              "              title=\"Convert this dataframe to an interactive table.\"\n",
              "              style=\"display:none;\">\n",
              "        \n",
              "  <svg xmlns=\"http://www.w3.org/2000/svg\" height=\"24px\"viewBox=\"0 0 24 24\"\n",
              "       width=\"24px\">\n",
              "    <path d=\"M0 0h24v24H0V0z\" fill=\"none\"/>\n",
              "    <path d=\"M18.56 5.44l.94 2.06.94-2.06 2.06-.94-2.06-.94-.94-2.06-.94 2.06-2.06.94zm-11 1L8.5 8.5l.94-2.06 2.06-.94-2.06-.94L8.5 2.5l-.94 2.06-2.06.94zm10 10l.94 2.06.94-2.06 2.06-.94-2.06-.94-.94-2.06-.94 2.06-2.06.94z\"/><path d=\"M17.41 7.96l-1.37-1.37c-.4-.4-.92-.59-1.43-.59-.52 0-1.04.2-1.43.59L10.3 9.45l-7.72 7.72c-.78.78-.78 2.05 0 2.83L4 21.41c.39.39.9.59 1.41.59.51 0 1.02-.2 1.41-.59l7.78-7.78 2.81-2.81c.8-.78.8-2.07 0-2.86zM5.41 20L4 18.59l7.72-7.72 1.47 1.35L5.41 20z\"/>\n",
              "  </svg>\n",
              "      </button>\n",
              "      \n",
              "  <style>\n",
              "    .colab-df-container {\n",
              "      display:flex;\n",
              "      flex-wrap:wrap;\n",
              "      gap: 12px;\n",
              "    }\n",
              "\n",
              "    .colab-df-convert {\n",
              "      background-color: #E8F0FE;\n",
              "      border: none;\n",
              "      border-radius: 50%;\n",
              "      cursor: pointer;\n",
              "      display: none;\n",
              "      fill: #1967D2;\n",
              "      height: 32px;\n",
              "      padding: 0 0 0 0;\n",
              "      width: 32px;\n",
              "    }\n",
              "\n",
              "    .colab-df-convert:hover {\n",
              "      background-color: #E2EBFA;\n",
              "      box-shadow: 0px 1px 2px rgba(60, 64, 67, 0.3), 0px 1px 3px 1px rgba(60, 64, 67, 0.15);\n",
              "      fill: #174EA6;\n",
              "    }\n",
              "\n",
              "    [theme=dark] .colab-df-convert {\n",
              "      background-color: #3B4455;\n",
              "      fill: #D2E3FC;\n",
              "    }\n",
              "\n",
              "    [theme=dark] .colab-df-convert:hover {\n",
              "      background-color: #434B5C;\n",
              "      box-shadow: 0px 1px 3px 1px rgba(0, 0, 0, 0.15);\n",
              "      filter: drop-shadow(0px 1px 2px rgba(0, 0, 0, 0.3));\n",
              "      fill: #FFFFFF;\n",
              "    }\n",
              "  </style>\n",
              "\n",
              "      <script>\n",
              "        const buttonEl =\n",
              "          document.querySelector('#df-8fc87d24-4b65-4214-bfdd-c85546c475dc button.colab-df-convert');\n",
              "        buttonEl.style.display =\n",
              "          google.colab.kernel.accessAllowed ? 'block' : 'none';\n",
              "\n",
              "        async function convertToInteractive(key) {\n",
              "          const element = document.querySelector('#df-8fc87d24-4b65-4214-bfdd-c85546c475dc');\n",
              "          const dataTable =\n",
              "            await google.colab.kernel.invokeFunction('convertToInteractive',\n",
              "                                                     [key], {});\n",
              "          if (!dataTable) return;\n",
              "\n",
              "          const docLinkHtml = 'Like what you see? Visit the ' +\n",
              "            '<a target=\"_blank\" href=https://colab.research.google.com/notebooks/data_table.ipynb>data table notebook</a>'\n",
              "            + ' to learn more about interactive tables.';\n",
              "          element.innerHTML = '';\n",
              "          dataTable['output_type'] = 'display_data';\n",
              "          await google.colab.output.renderOutput(dataTable, element);\n",
              "          const docLink = document.createElement('div');\n",
              "          docLink.innerHTML = docLinkHtml;\n",
              "          element.appendChild(docLink);\n",
              "        }\n",
              "      </script>\n",
              "    </div>\n",
              "  </div>\n",
              "  "
            ],
            "text/plain": [
              "   NPPM                                         LoanStatus  \\\n",
              "0     1  critical account/other loans existing (not at ...   \n",
              "1     1             existing loans paid back duly till now   \n",
              "2     1             existing loans paid back duly till now   \n",
              "3     1             existing loans paid back duly till now   \n",
              "4     1  critical account/other loans existing (not at ...   \n",
              "\n",
              "                      Objective  Amount Guarantor             Experience  \\\n",
              "0              New Car Purchase    1028      none  between 1 and 4 years   \n",
              "1  Purchase of radio/television   10222      none   greater than 4 years   \n",
              "2  Purchase of radio/television     701      none  between 1 and 4 years   \n",
              "3  Purchase of radio/television    1670      none       less than a year   \n",
              "4              New Car Purchase    1163      none  between 1 and 4 years   \n",
              "\n",
              "                                M_Status  ExistingLoan  Age  \\\n",
              "0  female and divorced/seperated/married             2   36   \n",
              "1                        male and single             1   37   \n",
              "2               male and married/widowed             1   40   \n",
              "3  female and divorced/seperated/married             1   22   \n",
              "4                        male and single             1   44   \n",
              "\n",
              "           CA_Balance            SA_Balance  PI_Payment WorkAB  PhN  Tenure  \\\n",
              "0  no current account         less than 100           4    Yes   No      18   \n",
              "1  no current account    no savings account           4    Yes  Yes      48   \n",
              "2         less than 0         less than 100           4    Yes   No      12   \n",
              "3   between 0 and 200         less than 100           4    Yes  Yes       9   \n",
              "4  no current account  between 500 and 1000           4    Yes  Yes      12   \n",
              "\n",
              "                    prop                       JobTyp HouseT  NOE  prediction  \n",
              "0            Real Estate  skilled employee / official    own    3           1  \n",
              "1  car or other property  skilled employee / official    own    3           1  \n",
              "2            Real Estate         unskilled - resident    own    2           1  \n",
              "3  car or other property  skilled employee / official    own    2           2  \n",
              "4            Real Estate  skilled employee / official    own    4           1  "
            ]
          },
          "execution_count": 172,
          "metadata": {},
          "output_type": "execute_result"
        }
      ],
      "source": [
        "df.head()"
      ]
    },
    {
      "cell_type": "code",
      "execution_count": 6,
      "metadata": {
        "id": "MfjGiYznMcEd"
      },
      "outputs": [],
      "source": [
        "def preprocessing(df):\n",
        "    df.Objective = df.Objective.replace({\"New Car Purchase\": 0, \"Purchase of radio/television\" : 1,'Purchase of furniture/equipment' : 2,'Old Car Repair': 3,'Education Loan': 4,\n",
        "                                        'Loan for business establishment': 5,'Other repairs': 6,'Purchase of domestic appliances': 7,'Loan for retraining': 8,'': 9,'nan':9})\n",
        "\n",
        "    df.Guarantor = df.Guarantor.replace({'none' : 0,'gaurantor' : 1,'co-applicant':  2,'': 3})\n",
        "\n",
        "    df.LoanStatus = df.LoanStatus.replace({'critical account/other loans existing (not at this bank)' : 0,'existing loans paid back duly till now' : 1,'all loans at this bank paid back duly':  2,'delay in paying off loans in the past' : 3,\n",
        "                                           'no loans taken/all loans paid back duly': 4,'': 5,})\n",
        "\n",
        "    df.Experience = df.Experience.replace({'between 1 and 4 years': 0, 'greater than 4 years': 1,'less than a year': 2,'unemployed': 3,'':4})\n",
        "\n",
        "    df.M_Status = df.M_Status.replace({'female and divorced/seperated/married': 0,'male and single': 1,'male and married/widowed': 2,\n",
        "                                      'male and divorced/seperated': 3,'':4})\n",
        "\n",
        "    df.CA_Balance = df.CA_Balance.replace({'no current account': 0,'less than 0': 1,'between 0 and 200': 3,'greater than 200': 4,'':5})\n",
        "\n",
        "    df.SA_Balance = df.SA_Balance.replace({'less than 100': 0,'no savings account': 1,'between 500 and 1000': 2,\n",
        "                                          'between 100 and 500': 3,'greater than 1000': 4,'':5})\n",
        "\n",
        "    df.WorkAB = df.WorkAB.replace({'Yes': 1,'No': 0,'':2})\n",
        "\n",
        "    df.PhN = df.PhN.replace({'Yes': 1,'No': 0,'':2})\n",
        "\n",
        "    df.prop = df.prop.replace({'Real Estate': 0,'car or other property': 1,'No property': 2,'building society savings agreement/life insurance': 3,'':4})\n",
        "\n",
        "    df.JobTyp = df.JobTyp.replace({'skilled employee / official': 0,'unskilled - resident': 1,'unemployed/ unskilled - non-resident': 2,'management/ self-employed/highly qualified employee/ officer': 3,'':4})\n",
        "\n",
        "    df.HouseT = df.HouseT.replace({'own': 0,'for free': 1,'rent': 3,'':4})\n",
        "\n",
        "    df.prediction = df.prediction.replace({2 : 0})\n",
        "\n",
        "    # df.olpt = df.olpt.replace({'none' : 0,'stores': 1,'bank': 2})\n",
        "    \n",
        "    return df\n",
        "\n",
        "df = preprocessing(df)"
      ]
    },
    {
      "cell_type": "code",
      "execution_count": 175,
      "metadata": {
        "colab": {
          "base_uri": "https://localhost:8080/"
        },
        "id": "3iIBV05aNPba",
        "outputId": "30bc1833-ebfc-4eb4-f929-3f10ac214d93"
      },
      "outputs": [
        {
          "name": "stdout",
          "output_type": "stream",
          "text": [
            "<class 'pandas.core.frame.DataFrame'>\n",
            "RangeIndex: 600 entries, 0 to 599\n",
            "Data columns (total 20 columns):\n",
            " #   Column        Non-Null Count  Dtype\n",
            "---  ------        --------------  -----\n",
            " 0   NPPM          600 non-null    int64\n",
            " 1   LoanStatus    600 non-null    int64\n",
            " 2   Objective     600 non-null    int64\n",
            " 3   Amount        600 non-null    int64\n",
            " 4   Guarantor     600 non-null    int64\n",
            " 5   Experience    600 non-null    int64\n",
            " 6   M_Status      600 non-null    int64\n",
            " 7   ExistingLoan  600 non-null    int64\n",
            " 8   Age           600 non-null    int64\n",
            " 9   CA_Balance    600 non-null    int64\n",
            " 10  SA_Balance    600 non-null    int64\n",
            " 11  PI_Payment    600 non-null    int64\n",
            " 12  WorkAB        600 non-null    int64\n",
            " 13  PhN           600 non-null    int64\n",
            " 14  Tenure        600 non-null    int64\n",
            " 15  prop          600 non-null    int64\n",
            " 16  JobTyp        600 non-null    int64\n",
            " 17  HouseT        600 non-null    int64\n",
            " 18  NOE           600 non-null    int64\n",
            " 19  prediction    600 non-null    int64\n",
            "dtypes: int64(20)\n",
            "memory usage: 93.9 KB\n"
          ]
        }
      ],
      "source": [
        "df.info()"
      ]
    },
    {
      "cell_type": "code",
      "execution_count": 176,
      "metadata": {
        "id": "Ga4CbisZNX1w"
      },
      "outputs": [],
      "source": [
        "## Spliting Our Data Frame in X,Y with our features going in the x and our target/result going in the y variable\n",
        "\n",
        "X = df.drop(['prediction'],axis=1)\n",
        "Y = df['prediction']"
      ]
    },
    {
      "cell_type": "code",
      "execution_count": 177,
      "metadata": {
        "id": "QpR3LjBSNZqa"
      },
      "outputs": [],
      "source": [
        "#Spliting Our Data [ X(features) ,Y(result/prediction)] For Training and Testing Purposes. \n",
        "#The split will be int the ratio of 80:20.\n",
        "\n",
        "X_train, X_test, y_train, y_test = train_test_split(X, Y, test_size=0.2)"
      ]
    },
    {
      "cell_type": "code",
      "execution_count": 178,
      "metadata": {
        "colab": {
          "base_uri": "https://localhost:8080/"
        },
        "id": "NlSekb8rNbCS",
        "outputId": "944e6b50-07d8-4ae0-fe21-e380d7b60687"
      },
      "outputs": [
        {
          "name": "stdout",
          "output_type": "stream",
          "text": [
            "Size of X Train:- (480, 19)\n",
            "Size of X Test:- (120, 19)\n",
            "Size of Y Train:- (480,)\n",
            "Size of Y Test:- (120,)\n"
          ]
        }
      ],
      "source": [
        "print(\"Size of X Train:- \" + str(X_train.shape))\n",
        "print(\"Size of X Test:- \" + str(X_test.shape))\n",
        "print(\"Size of Y Train:- \" + str(y_train.shape))\n",
        "print(\"Size of Y Test:- \" + str(y_test.shape))"
      ]
    },
    {
      "cell_type": "markdown",
      "metadata": {
        "id": "Hby7WSoydeOm"
      },
      "source": [
        "# **Building our Machine Learning Model**\n",
        "\n",
        "We will be using random forest for the given data as we know it will be giving us best accuracy this was concluded from accuracy Notebook :- [AccuracyNotebook](https://googel.com). First we will be building model on given dataset. Then we will SMOT over it to imporove accuracy."
      ]
    },
    {
      "cell_type": "code",
      "execution_count": 179,
      "metadata": {
        "colab": {
          "base_uri": "https://localhost:8080/"
        },
        "id": "Z9SnwlZ7NcGB",
        "outputId": "06dfc7bc-8fc9-473d-c8b6-7ac530461b97"
      },
      "outputs": [
        {
          "data": {
            "text/plain": [
              "RandomForestClassifier(max_depth=180, min_samples_split=5, n_estimators=152)"
            ]
          },
          "execution_count": 179,
          "metadata": {},
          "output_type": "execute_result"
        }
      ],
      "source": [
        "reg_rf = RandomForestClassifier(max_depth=180,min_samples_split= 5,n_estimators= 152)\n",
        "reg_rf.fit(X_train, y_train)"
      ]
    },
    {
      "cell_type": "code",
      "execution_count": 180,
      "metadata": {
        "id": "MV6HGQd0NgDI"
      },
      "outputs": [],
      "source": [
        "y_pred_1 = reg_rf.predict(X_test)"
      ]
    },
    {
      "cell_type": "code",
      "execution_count": 182,
      "metadata": {
        "colab": {
          "base_uri": "https://localhost:8080/"
        },
        "id": "fDJixK4TNrZs",
        "outputId": "759533f4-ce7e-4bfb-abdb-291424efa68a"
      },
      "outputs": [
        {
          "name": "stdout",
          "output_type": "stream",
          "text": [
            "              precision    recall  f1-score   support\n",
            "\n",
            "           0       0.81      0.37      0.51        35\n",
            "           1       0.79      0.96      0.87        85\n",
            "\n",
            "    accuracy                           0.79       120\n",
            "   macro avg       0.80      0.67      0.69       120\n",
            "weighted avg       0.80      0.79      0.76       120\n",
            "\n"
          ]
        }
      ],
      "source": [
        "print(metrics.classification_report(y_test, y_pred_1))"
      ]
    },
    {
      "cell_type": "code",
      "execution_count": 183,
      "metadata": {
        "colab": {
          "base_uri": "https://localhost:8080/"
        },
        "id": "JdKvsaY5Nv21",
        "outputId": "a9944f10-ed2e-413d-86f5-bf0ff9fd098b"
      },
      "outputs": [
        {
          "name": "stdout",
          "output_type": "stream",
          "text": [
            "Accuracy: 79.16666666666666\n"
          ]
        }
      ],
      "source": [
        "print(f'Accuracy: {accuracy_score(y_test, y_pred_1) * 100}')"
      ]
    },
    {
      "cell_type": "markdown",
      "metadata": {
        "id": "PAVRh1AyHWNg"
      },
      "source": [
        "# Oversampling Minority Class\n",
        "Applying oversampling technique. For Improving F1 Score and Accuracy of The Model. we will be adding a bit more data then the majority class because oversampling might have some overlapping or dupicate data so we will add a bit more data then needed so accuracy and F1 score will be balanced."
      ]
    },
    {
      "cell_type": "code",
      "execution_count": 184,
      "metadata": {
        "id": "rvx2VqYjN0qo"
      },
      "outputs": [],
      "source": [
        "# Class count\n",
        "count_class_1, count_class_0 = df.prediction.value_counts()\n",
        "\n",
        "# Divide by class\n",
        "df_class_0 = df[df['prediction'] == 0]\n",
        "df_class_1 = df[df['prediction'] == 1]"
      ]
    },
    {
      "cell_type": "code",
      "execution_count": 185,
      "metadata": {
        "colab": {
          "base_uri": "https://localhost:8080/"
        },
        "id": "zJwNNXlpOBIa",
        "outputId": "04cec8bf-e03f-44e8-f806-51032f9cb5b3"
      },
      "outputs": [
        {
          "data": {
            "text/plain": [
              "1    422\n",
              "0    178\n",
              "Name: prediction, dtype: int64"
            ]
          },
          "execution_count": 185,
          "metadata": {},
          "output_type": "execute_result"
        }
      ],
      "source": [
        "df['prediction'].value_counts()"
      ]
    },
    {
      "cell_type": "code",
      "execution_count": 186,
      "metadata": {
        "id": "ISPNFCEzOEmu"
      },
      "outputs": [],
      "source": [
        "# Class count\n",
        "count_class_1, count_class_0 = df.prediction.value_counts()\n",
        "\n",
        "# Divide by class\n",
        "df_class_0 = df[df['prediction'] == 0]\n",
        "df_class_1 = df[df['prediction'] == 1]"
      ]
    },
    {
      "cell_type": "code",
      "execution_count": 187,
      "metadata": {
        "colab": {
          "base_uri": "https://localhost:8080/"
        },
        "id": "0uo5gQD-OJES",
        "outputId": "bf71fa28-501a-4af0-81ed-7b574cd0c9a7"
      },
      "outputs": [
        {
          "data": {
            "text/plain": [
              "(422, 178)"
            ]
          },
          "execution_count": 187,
          "metadata": {},
          "output_type": "execute_result"
        }
      ],
      "source": [
        "count_class_1, count_class_0"
      ]
    },
    {
      "cell_type": "code",
      "execution_count": 188,
      "metadata": {
        "colab": {
          "base_uri": "https://localhost:8080/"
        },
        "id": "yFlbOzkAOKVM",
        "outputId": "3ee0af7c-a1a8-4428-bec6-eeb8e6ca2cc1"
      },
      "outputs": [
        {
          "name": "stdout",
          "output_type": "stream",
          "text": [
            "Random over-sampling:\n",
            "0    522\n",
            "1    422\n",
            "Name: prediction, dtype: int64\n"
          ]
        }
      ],
      "source": [
        "df_class_0_over = df_class_0.sample(count_class_1+100,replace=True)\n",
        "df_test_over = pd.concat([df_class_1,df_class_0_over],axis=0)\n",
        "\n",
        "print('Random over-sampling:')\n",
        "print(df_test_over.prediction.value_counts())"
      ]
    },
    {
      "cell_type": "code",
      "execution_count": 189,
      "metadata": {
        "id": "RfN6UORmOLWA"
      },
      "outputs": [],
      "source": [
        "X_m2 = df_test_over.drop('prediction',axis='columns')\n",
        "y_m2 = df_test_over['prediction']\n",
        "\n",
        "from sklearn.model_selection import train_test_split\n",
        "X_m2_train, X_m2_test, y_m2_train, y_m2_test = train_test_split(X_m2, y_m2, test_size=0.2, random_state=15, stratify=y_m2)"
      ]
    },
    {
      "cell_type": "code",
      "execution_count": 190,
      "metadata": {
        "colab": {
          "base_uri": "https://localhost:8080/"
        },
        "id": "5wnAxTAIONUN",
        "outputId": "e17a48de-2afe-4f3e-ccbd-77f8e239c644"
      },
      "outputs": [
        {
          "data": {
            "text/plain": [
              "0    417\n",
              "1    338\n",
              "Name: prediction, dtype: int64"
            ]
          },
          "execution_count": 190,
          "metadata": {},
          "output_type": "execute_result"
        }
      ],
      "source": [
        "y_m2_train.value_counts()"
      ]
    },
    {
      "attachments": {},
      "cell_type": "markdown",
      "metadata": {
        "id": "dkk2yI_HJeB6"
      },
      "source": [
        "# **Building our Machine Learning Model**\n",
        "\n",
        "We will be using random forest for the given data as we know it will be giving us best accuracy this was concluded from accuracy Notebook :- [AccuracyNotebook]. First we will be building model on given dataset. Then we will SMOT over it to imporove accuracy."
      ]
    },
    {
      "cell_type": "code",
      "execution_count": 198,
      "metadata": {
        "colab": {
          "base_uri": "https://localhost:8080/"
        },
        "id": "DFAxWZ-WOPYq",
        "outputId": "feef2ddf-0e4b-4db8-d34d-1bf4dc13960c"
      },
      "outputs": [
        {
          "name": "stdout",
          "output_type": "stream",
          "text": [
            "              precision    recall  f1-score   support\n",
            "\n",
            "           0       0.91      0.97      0.94       105\n",
            "           1       0.96      0.88      0.92        84\n",
            "\n",
            "    accuracy                           0.93       189\n",
            "   macro avg       0.94      0.93      0.93       189\n",
            "weighted avg       0.93      0.93      0.93       189\n",
            "\n"
          ]
        }
      ],
      "source": [
        "from sklearn.ensemble import RandomForestClassifier\n",
        "from sklearn import metrics\n",
        "\n",
        "reg_rf_1 = RandomForestClassifier(max_depth=180,min_samples_split= 5,n_estimators= 152)\n",
        "reg_rf_1.fit(X_m2_train, y_m2_train)\n",
        "ym_pred = reg_rf_1.predict(X_m2_test)\n",
        "print(metrics.classification_report(y_m2_test, ym_pred))"
      ]
    },
    {
      "cell_type": "code",
      "execution_count": 199,
      "metadata": {
        "colab": {
          "base_uri": "https://localhost:8080/"
        },
        "id": "8uCvs5JlQpeY",
        "outputId": "69153812-29fa-4497-a5ba-a044ffdca11f"
      },
      "outputs": [
        {
          "name": "stdout",
          "output_type": "stream",
          "text": [
            "Accuracy: 93.12169312169311\n"
          ]
        }
      ],
      "source": [
        "print(f'Accuracy: {accuracy_score(y_m2_test, ym_pred)*100}')"
      ]
    },
    {
      "cell_type": "code",
      "execution_count": 202,
      "metadata": {
        "id": "v06os5M7Z7ju"
      },
      "outputs": [],
      "source": [
        "# Save the trained model as a pickle string.\n",
        "\n",
        "pickle.dump(reg_rf_1, open('model_final.pkl','wb'))"
      ]
    }
  ],
  "metadata": {
    "colab": {
      "provenance": []
    },
    "kernelspec": {
      "display_name": "base",
      "language": "python",
      "name": "python3"
    },
    "language_info": {
      "name": "python",
      "version": "3.9.7 | packaged by conda-forge | (default, Sep 29 2021, 19:24:02) \n[Clang 11.1.0 ]"
    },
    "vscode": {
      "interpreter": {
        "hash": "a38a080ca91460e255861be34111c03ad101c9959306d0a2d0e260081fefea62"
      }
    }
  },
  "nbformat": 4,
  "nbformat_minor": 0
}
